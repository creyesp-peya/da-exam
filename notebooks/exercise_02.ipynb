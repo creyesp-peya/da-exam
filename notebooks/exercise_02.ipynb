{
 "cells": [
  {
   "cell_type": "markdown",
   "source": [
    "# Problema 2 (Python)\n",
    "\n",
    "En este ejercicio la idea es resolver un problema de manipulación de datos y scripting en Python. Para ellos usa la misma base de datos del ejercicio 1 como dato de entrada para realizar las siguientes operaciones\n",
    "\n",
    "* Traer todos los datos de la base de datos a python\n",
    "* Agrupar por estación meteorológica y calcular las métricas min, max y avg para las columnas “temp”,  “prcp”, “visib”.\n",
    "* Crear una carpeta llamada results y dentro de esta otra con la fecha de la ejecución del script, ex. “results/2022-01-01/”\n",
    "* Guardar el resultado de las métricas para cada estación meteorológica en archivos separados (en la carpeta creada anteriormente) donde las columnas sean “temp”,  “prcp”, “visib”,  las filas min, max y avg y el nombre del archivo sea el nombre de la estación..\n",
    "* Finalmente crea un archivo de texto que contenga información del proceso con la idea de que ese archivo se va a mostrar en algún sistema de notificaciones, este archivo tiene que tener la fecha en la que se ejecuto el script, los archivos que se generaron, el owner del script y el status del proceso\n",
    "\n"
   ],
   "metadata": {
    "collapsed": false,
    "pycharm": {
     "name": "#%% md\n"
    }
   }
  }
 ],
 "metadata": {
  "kernelspec": {
   "display_name": "Python 3",
   "language": "python",
   "name": "python3"
  },
  "language_info": {
   "codemirror_mode": {
    "name": "ipython",
    "version": 3
   },
   "file_extension": ".py",
   "mimetype": "text/x-python",
   "name": "python",
   "nbconvert_exporter": "python",
   "pygments_lexer": "ipython3",
   "version": "3.8.10"
  },
  "toc": {
   "base_numbering": 1,
   "nav_menu": {},
   "number_sections": true,
   "sideBar": true,
   "skip_h1_title": false,
   "title_cell": "Table of Contents",
   "title_sidebar": "Contents",
   "toc_cell": false,
   "toc_position": {},
   "toc_section_display": true,
   "toc_window_display": false
  },
  "varInspector": {
   "cols": {
    "lenName": 16,
    "lenType": 16,
    "lenVar": 40
   },
   "kernels_config": {
    "python": {
     "delete_cmd_postfix": "",
     "delete_cmd_prefix": "del ",
     "library": "var_list.py",
     "varRefreshCmd": "print(var_dic_list())"
    },
    "r": {
     "delete_cmd_postfix": ") ",
     "delete_cmd_prefix": "rm(",
     "library": "var_list.r",
     "varRefreshCmd": "cat(var_dic_list()) "
    }
   },
   "types_to_exclude": [
    "module",
    "function",
    "builtin_function_or_method",
    "instance",
    "_Feature"
   ],
   "window_display": false
  }
 },
 "nbformat": 4,
 "nbformat_minor": 5
}